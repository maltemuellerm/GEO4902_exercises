{
 "cells": [
  {
   "cell_type": "markdown",
   "metadata": {},
   "source": [
    "# Exercises - GEO4902-01 - General modeling concepts\n",
    "\n",
    "[Save google-collab as jupyter notebook, with your name in the filename, and upload on canvas]\n",
    "\n",
    "# Exercise 01B - Access and plot AROME MetCoOp and ECMWF IFS forecasts\n",
    "\n",
    "## Example for an extreme precipitation event in October 2014 in West Norway"
   ]
  },
  {
   "cell_type": "code",
   "execution_count": null,
   "metadata": {},
   "outputs": [],
   "source": [
    "import xarray as xr\n",
    "import numpy as np\n",
    "from matplotlib import pyplot as plt\n",
    "import cartopy as cy\n",
    "from cmcrameri import cm"
   ]
  },
  {
   "cell_type": "markdown",
   "metadata": {},
   "source": [
    "##### Specifiy input fields: AROME MetCoOp and ECMWF IFS forecasts"
   ]
  },
  {
   "cell_type": "code",
   "execution_count": null,
   "metadata": {},
   "outputs": [],
   "source": [
    "day='26'; month='10'; year='2014'; HH='12'\n",
    "\n",
    "url='https://thredds.met.no/thredds/dodsC/aromemetcoopstarc/'+str(year)+'/'+str(month)+'/'+str(day)+'/AROME_MetCoOp_'+str(HH)+'_fp.nc_'+str(year)+str(month)+str(day)\n",
    "arome = xr.open_dataset(url)\n",
    "\n",
    "url='https://thredds.met.no/thredds/dodsC/metusers/maltem/GEO4902_2020/Arctic.ECMWF_extracted_'+str(year)+str(month)+str(day)+'T'+str(HH)+'Z.nc'\n",
    "ecifs =  xr.open_dataset(url)"
   ]
  },
  {
   "cell_type": "markdown",
   "metadata": {},
   "source": [
    "### Find a specific point and plot the forecast. \n",
    "###### Note AROME MetCoOp is on an irregular grid, so the xarray.sel functionality does not work. But it does work for the ECMWF IFS grid (see below)"
   ]
  },
  {
   "cell_type": "code",
   "execution_count": null,
   "metadata": {},
   "outputs": [],
   "source": [
    "def findindex(alat,alon,plat,plon):\n",
    "    #finding identical location of pos plat, plon in array alat[],alon[]\n",
    "    abslat = np.abs(alat-plat)\n",
    "    abslon = np.abs(alon-plon)\n",
    "    c = np.maximum(abslon,abslat)\n",
    "    x, y = np.where(c == np.min(c))\n",
    "    #print(alats[x,y],alon[x,y])\n",
    "    x=int(x)\n",
    "    y=int(y)\n",
    "   \n",
    "    return (x,y)"
   ]
  },
  {
   "cell_type": "code",
   "execution_count": null,
   "metadata": {},
   "outputs": [],
   "source": [
    "lat0=60.3833; lon0=5.9500 # Kvamskogen in Western Norway\n",
    "\n",
    "[ix,jx] = findindex(arome.latitude,arome.longitude,lat0,lon0) # from regional model AROME MetCoOp\n"
   ]
  },
  {
   "cell_type": "markdown",
   "metadata": {},
   "source": [
    "### The ECMWF IFS precipitation is subdivided into large scale or stratiform precipitation (LSP) and convective precipitation (TP-LSP)"
   ]
  },
  {
   "cell_type": "code",
   "execution_count": null,
   "metadata": {},
   "outputs": [],
   "source": [
    "ecifs"
   ]
  },
  {
   "cell_type": "code",
   "execution_count": null,
   "metadata": {},
   "outputs": [],
   "source": [
    "pp_acc_point_arome = arome.precipitation_amount_acc.isel(height0=0,x=jx,y=ix)\n",
    "pp_acc_point_ecifs = ecifs.sel(lat=lat0,lon=lon0,method='nearest')"
   ]
  },
  {
   "cell_type": "code",
   "execution_count": null,
   "metadata": {},
   "outputs": [],
   "source": [
    "pp_acc_point_arome.plot(x='time', linestyle='-', label='AROME MetCoOp')\n",
    "(pp_acc_point_ecifs.TP*1000).plot(x='time', linestyle='-',label='EC Total Precip.')\n",
    "(pp_acc_point_ecifs.LSP*1000).plot(x='time', linestyle='--',label='EC Large Scale Precip.')\n",
    "((pp_acc_point_ecifs.TP-pp_acc_point_ecifs.LSP)*1000).plot(x='time',linestyle='--',label='EC Convective Precip.')\n",
    "\n",
    "plt.legend()\n",
    "plt.title(\"Kvamskogen Accumulated Precipitation Forecast\")\n"
   ]
  },
  {
   "cell_type": "markdown",
   "metadata": {},
   "source": [
    "### Plot the two accumulated precipitation forecasts on a map"
   ]
  },
  {
   "cell_type": "code",
   "execution_count": null,
   "metadata": {},
   "outputs": [],
   "source": [
    "timestep=24 # 24-hour accumulated precipitation\n",
    "levelsPP = range(0,100,10)\n",
    "\n",
    "\n",
    "projection = cy.crs.LambertConformal(central_longitude =arome.projection_lambert.longitude_of_central_meridian,\n",
    "                                       central_latitude  =arome.projection_lambert.latitude_of_projection_origin,\n",
    "                                       standard_parallels = arome.projection_lambert.standard_parallel)\n",
    "f, axsm = plt.subplots(1,2, subplot_kw={'projection' : projection}, figsize=(7.2,7.2), sharex=True, sharey=True)\n",
    "\n",
    "for ax in axsm.flatten():\n",
    "    ax.set_extent([5, 30, 57, 72], cy.crs.PlateCarree())\n",
    "    ax.add_feature(cy.feature.COASTLINE, alpha=0.5)\n",
    "    ax.add_feature(cy.feature.BORDERS, alpha=0.5)\n",
    "    gl = ax.gridlines(draw_labels=True)\n",
    "    gl.top_labels   = False\n",
    "    gl.right_labels = False\n",
    "    \n",
    "arome.precipitation_amount_acc.isel(time=timestep,height0=0).plot.contourf(ax=axsm[0], transform=projection, cmap=cm.davos_r, extend='max',levels=levelsPP,add_colorbar=False)\n",
    "axsm[0].set_title('AROME MetCoOp '+np.datetime_as_string(arome.time[0],unit='h'))\n",
    "\n",
    "cf = (ecifs.TP.isel(time=timestep)*1000).plot.contourf(ax=axsm[1], transform=cy.crs.PlateCarree(), cmap=cm.davos_r, extend='max', levels=levelsPP, add_colorbar=False)\n",
    "axsm[1].set_title ('AROME MetCoOp '+np.datetime_as_string(arome.time[0],unit='h'))\n",
    "\n",
    "cbaxes = f.add_axes([0.1, 0.25, 0.8, 0.025])\n",
    "cbar = plt.colorbar(cf, cax=cbaxes, shrink=0.5, orientation='horizontal', extend='max',label='24-hour accumulated precipitation')\n",
    "  \n"
   ]
  },
  {
   "cell_type": "code",
   "execution_count": null,
   "metadata": {},
   "outputs": [],
   "source": []
  }
 ],
 "metadata": {
  "kernelspec": {
   "display_name": "Python 3 (ipykernel)",
   "language": "python",
   "name": "python3"
  },
  "language_info": {
   "codemirror_mode": {
    "name": "ipython",
    "version": 3
   },
   "file_extension": ".py",
   "mimetype": "text/x-python",
   "name": "python",
   "nbconvert_exporter": "python",
   "pygments_lexer": "ipython3",
   "version": "3.10.12"
  },
  "vscode": {
   "interpreter": {
    "hash": "074c9da13dadf3787816defdb6724be09c58d82ad2f90fe93195adeb8b140736"
   }
  }
 },
 "nbformat": 4,
 "nbformat_minor": 2
}
