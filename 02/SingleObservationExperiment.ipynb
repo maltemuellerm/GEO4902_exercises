{
 "cells": [
  {
   "cell_type": "code",
   "execution_count": null,
   "metadata": {},
   "outputs": [],
   "source": [
    "# import python packages\n",
    "import xarray as xr\n",
    "import math\n",
    "import numpy as np\n",
    "from matplotlib import pyplot as plt\n",
    "import cartopy as cy\n",
    "from cmcrameri import cm\n"
   ]
  },
  {
   "cell_type": "markdown",
   "metadata": {},
   "source": [
    "# Single observation data assimilation experiment"
   ]
  },
  {
   "cell_type": "markdown",
   "metadata": {},
   "source": [
    "#### Load BACKGROUND fields of temperature,wind, and specific humidity"
   ]
  },
  {
   "cell_type": "code",
   "execution_count": null,
   "metadata": {},
   "outputs": [],
   "source": [
    "url='https://thredds.met.no/thredds/dodsC/metusers/maltem/GEO4902_2020/remap.varn.BG.nc'\n",
    "model_background = xr.open_dataset(url)"
   ]
  },
  {
   "cell_type": "markdown",
   "metadata": {},
   "source": [
    "#### Load ANALYSIS fields of temperature,wind, and specific humidity\n",
    "#### This analysis has been produced by assimilating a radiosonde information at 500hPa"
   ]
  },
  {
   "cell_type": "code",
   "execution_count": null,
   "metadata": {},
   "outputs": [],
   "source": [
    "url='https://thredds.met.no/thredds/dodsC/metusers/maltem/GEO4902_2020/remap.varn.LPB_POS2_TEMP500.nc'\n",
    "model_analysis = xr.open_dataset(url)"
   ]
  },
  {
   "cell_type": "markdown",
   "metadata": {},
   "source": [
    "The data is stored in the original coordinates of the model, but do not worry about that. Just assume it is some kind of vertical discretization. Remember that you can look in the metadata to find the variable names and coordinate information! "
   ]
  },
  {
   "cell_type": "markdown",
   "metadata": {},
   "source": [
    "### Below are two plotting routines which yo can use to plot horizontal and vertical sections of the model. "
   ]
  },
  {
   "cell_type": "code",
   "execution_count": null,
   "metadata": {},
   "outputs": [],
   "source": [
    "timestep=0; modellevel=59\n",
    "temp_background = model_background['air_temperature'].isel(time=timestep).sel(lev_2=modellevel)\n",
    "temp_analysis   = model_analysis['air_temperature'].isel(time=timestep).sel(lev=modellevel)"
   ]
  },
  {
   "cell_type": "code",
   "execution_count": null,
   "metadata": {},
   "outputs": [],
   "source": [
    "projection = cy.crs.Stereographic(central_latitude=78.4, central_longitude=10.0, )\n",
    "# projection = cy.crs.PlateCarree()\n",
    "f, ax = plt.subplots(1,1, subplot_kw={'projection':projection}, figsize=[7.2, 7.2])\n",
    "# plot cosmetics\n",
    "ax.set_extent([-10, 20, 55, 72], cy.crs.PlateCarree())\n",
    "ax.add_feature(cy.feature.COASTLINE, alpha=0.5)\n",
    "ax.add_feature(cy.feature.BORDERS, alpha=0.5)\n",
    "gl = ax.gridlines(draw_labels=True)\n",
    "gl.top_labels=False\n",
    "gl.right_labels=False\n",
    "\n",
    "temp_analysis.plot.pcolormesh(ax=ax, \n",
    "                              x='lon',\n",
    "                              y='lat',\n",
    "                              cmap=cm.vik,\n",
    "                              extend='both',\n",
    "                              levels=np.arange(258.15, 288.15,2),\n",
    "                              transform=cy.crs.PlateCarree(), \n",
    "                              cbar_kwargs={'orientation':'horizontal','label':'Temperature (K)', 'shrink':0.8, 'pad':0.1})"
   ]
  },
  {
   "cell_type": "code",
   "execution_count": null,
   "metadata": {},
   "outputs": [],
   "source": []
  },
  {
   "cell_type": "code",
   "execution_count": null,
   "metadata": {},
   "outputs": [],
   "source": [
    "timestep=0; seclat=20; # Intersection at latitude model_analysis.lat[seclat]\n",
    "\n",
    "tempvert_background = model_background['air_temperature'].isel(time=timestep, lat=seclat)\n",
    "tempvert_analysis   = model_analysis['air_temperature'].isel(time=timestep, lat=seclat)\n",
    "\n",
    "windvert_background =(np.sqrt(model_background['x_wind']**2 + model_background['y_wind']**2)).isel(time=timestep, lat=seclat)\n",
    "windvert_analysis   =(np.sqrt(model_analysis['x_wind']**2 + model_analysis['y_wind']**2)).isel(time=timestep, lat=seclat)\n",
    "\n",
    "humidvert_background = model_background['specific_humidity'].isel(time=timestep, lat=seclat)\n",
    "humidvert_analysis   = model_analysis['specific_humidity'].isel(time=timestep, lat=seclat)"
   ]
  },
  {
   "cell_type": "code",
   "execution_count": null,
   "metadata": {},
   "outputs": [],
   "source": [
    "f, ax = plt.subplots(1,1,figsize=[7.2, 7.2])\n",
    "\n",
    "tempvert_background.plot(ax=ax, \n",
    "                         x='lon', \n",
    "                         y='lev_2', \n",
    "                         cmap=cm.vik, \n",
    "                         extend='both', \n",
    "                         levels=np.arange(253.15, 293.15,2),\n",
    "                         cbar_kwargs={'orientation':'horizontal','label':'Temperature (K)', 'shrink':1, 'pad':0.1})\n",
    "ax.set_ylim(ax.get_ylim()[::-1])\n"
   ]
  },
  {
   "cell_type": "code",
   "execution_count": null,
   "metadata": {},
   "outputs": [],
   "source": []
  }
 ],
 "metadata": {
  "kernelspec": {
   "display_name": "Python 3.10.6 ('geo4902_2')",
   "language": "python",
   "name": "python3"
  },
  "language_info": {
   "codemirror_mode": {
    "name": "ipython",
    "version": 3
   },
   "file_extension": ".py",
   "mimetype": "text/x-python",
   "name": "python",
   "nbconvert_exporter": "python",
   "pygments_lexer": "ipython3",
   "version": "3.10.6"
  },
  "vscode": {
   "interpreter": {
    "hash": "074c9da13dadf3787816defdb6724be09c58d82ad2f90fe93195adeb8b140736"
   }
  }
 },
 "nbformat": 4,
 "nbformat_minor": 2
}
