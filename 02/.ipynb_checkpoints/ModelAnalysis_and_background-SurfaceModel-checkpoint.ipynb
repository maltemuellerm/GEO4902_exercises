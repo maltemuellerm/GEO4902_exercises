{
 "cells": [
  {
   "cell_type": "markdown",
   "metadata": {},
   "source": [
    "# Exercises - GEO4902-02 - Data Assimilation\n",
    "\n",
    "[Save as jupyter notebook, with your name in the filename, and upload on canvas]\n",
    "\n",
    "# Exercise 02-02 -  Analyse the impact of the surface data assimilation - Surface Mode"
   ]
  },
  {
   "cell_type": "code",
   "execution_count": null,
   "metadata": {},
   "outputs": [],
   "source": [
    "# import python packages\n",
    "import xarray as xr\n",
    "import math\n",
    "import numpy as np\n",
    "import cartopy as cy\n",
    "from matplotlib import pyplot as plt\n",
    "from cmcrameri import cm\n"
   ]
  },
  {
   "cell_type": "markdown",
   "metadata": {},
   "source": [
    "#### Fill in the dates and hours for the exercise"
   ]
  },
  {
   "cell_type": "code",
   "execution_count": null,
   "metadata": {},
   "outputs": [],
   "source": [
    "year =  ''\n",
    "day  =  ''\n",
    "month = ''\n",
    "\n",
    "hour_1  =''\n",
    "hour_2  =''\n",
    "\n",
    "\n",
    "url='https://thredds.met.no/thredds/dodsC/aromearcticarchive/'+year+'/'+month+'/'+day+'/arome_arctic_lagged_12_h_subset_2_5km_'+year+month+day+'T'+hour_1+'Z.nc'\n",
    "forecast_1 = xr.open_dataset(url)\n",
    "\n",
    "\n",
    "url='https://thredds.met.no/thredds/dodsC/aromearcticarchive/'+year+'/'+month+'/'+day+'/arome_arctic_lagged_12_h_subset_2_5km_'+year+month+day+'T'+hour_2+'Z.nc'\n",
    "forecast_2 = xr.open_dataset(url)"
   ]
  },
  {
   "cell_type": "markdown",
   "metadata": {},
   "source": [
    "### Find a specific point and plot the forecast. \n",
    "###### Note AROME Arctic is on an irregular grid, so the xarray.sel functionality does not work:"
   ]
  },
  {
   "cell_type": "code",
   "execution_count": null,
   "metadata": {},
   "outputs": [],
   "source": [
    "def findindex(alat,alon,plat,plon):\n",
    "    #finding identical location of pos plat, plon in array alat[],alon[]\n",
    "    abslat = np.abs(alat-plat)\n",
    "    abslon = np.abs(alon-plon)\n",
    "    c = np.maximum(abslon,abslat)\n",
    "    x, y = np.where(c == np.min(c))\n",
    "    x=int(x)\n",
    "    y=int(y)\n",
    "   \n",
    "    return (x,y)"
   ]
  },
  {
   "cell_type": "code",
   "execution_count": null,
   "metadata": {},
   "outputs": [],
   "source": [
    "[ix,jx] = findindex(forecast_1['latitude'],forecast_1['longitude'],78.24,15.46) # For example for Longyearbyen"
   ]
  },
  {
   "cell_type": "markdown",
   "metadata": {},
   "source": [
    "#### For example temperature"
   ]
  },
  {
   "cell_type": "code",
   "execution_count": null,
   "metadata": {},
   "outputs": [],
   "source": [
    "t2m_point_forecast_1 = forecast_1['air_temperature_2m'].isel(height1=0, y=ix, x=jx)\n",
    "t2m_point_forecast_2 = forecast_2['air_temperature_2m'].isel(height1=0, y=ix, x=jx)"
   ]
  },
  {
   "cell_type": "code",
   "execution_count": null,
   "metadata": {},
   "outputs": [],
   "source": [
    "f, ax = plt.subplots()                              # define figure\n",
    "\n",
    "t2m_point_forecast_1.plot.line(ax = ax, x='time', label=(np.datetime_as_string(t2m_point_forecast_1.time.isel(time=0), unit='h')), linestyle='-') \n",
    "t2m_point_forecast_2.plot.line(ax = ax, x='time', label=(np.datetime_as_string(t2m_point_forecast_2.time.isel(time=0), unit='h')), linestyle='-.')\n",
    "plt.legend()\n",
    "plt.title(\"Longyearbyen Temperature Forecast\");"
   ]
  },
  {
   "cell_type": "markdown",
   "metadata": {},
   "source": [
    "### Plot one forecast on a map"
   ]
  },
  {
   "cell_type": "code",
   "execution_count": null,
   "metadata": {},
   "outputs": [],
   "source": [
    "timestep_1=3\n",
    "\n",
    "projection = cy.crs.LambertConformal(central_longitude =forecast_1.projection_lambert.longitude_of_central_meridian,\n",
    "                                       central_latitude  =forecast_1.projection_lambert.latitude_of_projection_origin,\n",
    "                                       standard_parallels = forecast_1.projection_lambert.standard_parallel)\n",
    "\n",
    "\n",
    "f, axsm = plt.subplots(2,2, subplot_kw={'projection':projection}, figsize=[7.2, 7.2])\n",
    "\n",
    "# plot cosmetics\n",
    "for ax, em  in zip(axsm.flatten(), forecast_1['ensemble_member']):\n",
    "    ax.add_feature(cy.feature.COASTLINE, alpha=0.5)\n",
    "    ax.add_feature(cy.feature.BORDERS, alpha=0.5)\n",
    "    gl = ax.gridlines(draw_labels=True)\n",
    "    gl.top_labels=False\n",
    "    gl.right_labels=False\n",
    "\n",
    "\n",
    "    cf = (forecast_1['air_temperature_2m'].isel(time=timestep_1, height1=0).sel(ensemble_member=em) - 273.15).plot.contourf(ax=ax, \n",
    "                                                                                               x='longitude', \n",
    "                                                                                               y='latitude', \n",
    "                                                                                               cmap=cm.vik, \n",
    "                                                                                               extend='both', \n",
    "                                                                                               transform=cy.crs.PlateCarree(),\n",
    "                                                                                               levels=np.arange(-10,12,2),\n",
    "                                                                                               add_colorbar=False,)\n",
    "    ax.set(title ='ensemble_member = {}'.format(em))\n",
    "    \n",
    "cbaxes = f.add_axes([0.92, 0.025, 0.025, 0.9])\n",
    "cbar = plt.colorbar(cf, cax=cbaxes, shrink=0.5, orientation='vertical', extend='both',label='Temperature ($^\\circ$C)')\n",
    "\n",
    "f.suptitle(np.datetime_as_string(forecast_1.time.isel(time=timestep_1), unit='h'), fontweight=\"bold\");"
   ]
  }
 ],
 "metadata": {
  "kernelspec": {
   "display_name": "Python 3",
   "language": "python",
   "name": "python3"
  },
  "language_info": {
   "codemirror_mode": {
    "name": "ipython",
    "version": 3
   },
   "file_extension": ".py",
   "mimetype": "text/x-python",
   "name": "python",
   "nbconvert_exporter": "python",
   "pygments_lexer": "ipython3",
   "version": "3.6.9"
  },
  "vscode": {
   "interpreter": {
    "hash": "074c9da13dadf3787816defdb6724be09c58d82ad2f90fe93195adeb8b140736"
   }
  }
 },
 "nbformat": 4,
 "nbformat_minor": 2
}
