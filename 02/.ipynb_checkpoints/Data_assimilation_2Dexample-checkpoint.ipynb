{
 "cells": [
  {
   "cell_type": "markdown",
   "metadata": {},
   "source": [
    "# Exercises - GEO4902-02 - Data Assimilation\n",
    "\n",
    "[Save as jupyter notebook, with your name in the filename, and upload on canvas]\n",
    "\n",
    "# Exercise 02-04 - Understanding model and observation errors\n"
   ]
  },
  {
   "cell_type": "code",
   "execution_count": null,
   "metadata": {},
   "outputs": [],
   "source": [
    "import matplotlib.pyplot as plt\n",
    "import numpy as np\n",
    "from mpl_toolkits.mplot3d import Axes3D\n",
    "from matplotlib import cm\n",
    "from matplotlib.ticker import LinearLocator, FormatStrFormatter\n",
    "\n",
    "def plotGauss3D(mean_0,mean_1,sd_0,sd_1,rho,vminmax=None,title=None):\n",
    "# size of grid\n",
    "    N = 1000\n",
    "#  generate grid (NB -1 to 1)\n",
    "    coords = 2. * (np.arange(N+1)/float(N) - 0.5)\n",
    "    x0, x1 = np.meshgrid(coords,coords)\n",
    "    x = np.array([x0, x1])\n",
    "    dx = np.array([x0[0,1] - x0[0,0], x1[1,0] - x1[0,0]])\n",
    "    grid = dx[0] * dx[1]\n",
    "\n",
    "    # set B\n",
    "    b01 = b10 = rho * sd_0 * sd_1\n",
    "    b00 = sd_0**2\n",
    "    b11 = sd_1**2\n",
    "    B = np.matrix([[b00,b01],[b10,b11]])\n",
    "    # set xb: the mean\n",
    "    xb = np.array([mean_0,mean_1])\n",
    "\n",
    "    xxb = np.zeros_like(x)\n",
    "    for i in range(xb.shape[0]): xxb[i,...] = xb[i]\n",
    "    e = x - xxb\n",
    "\n",
    "    n = np.shape(B)[0]\n",
    "    # inverse of B\n",
    "    BI = B.I\n",
    "    # scaling term\n",
    "    scale_1 = (2.*np.pi)**(n/2) * np.sqrt(np.linalg.det(B))\n",
    "    gauss = np.exp(-0.5 * ((e[0,...] * BI[0,0] + e[1,...] * BI[0,1])* e[0,...]     \\\n",
    "                          + (e[0,...] * BI[1,0] + e[1,...] * BI[1,1])* e[1,...])) \\\n",
    "                          / scale_1\n",
    "\n",
    "    # check integral\n",
    "    #print ('integral of Gaussian:',gauss.sum() * grid)\n",
    "\n",
    "    \n",
    "    fig = plt.figure()\n",
    "    ax = fig.gca(projection='3d')\n",
    "\n",
    "    # Plot the surface.\n",
    "    surf = ax.plot_surface(x0, x1, gauss, cmap=cm.coolwarm,\n",
    "                       linewidth=0, antialiased=False)\n",
    "\n",
    "    # Customize the z axis.\n",
    "    ax.set_zlim(-.0, 5.0)\n",
    "    ax.zaxis.set_major_locator(LinearLocator(10))\n",
    "    ax.zaxis.set_major_formatter(FormatStrFormatter('%.02f'))\n",
    "\n",
    "    # Add a color bar which maps values to colors.\n",
    "    fig.colorbar(surf, shrink=0.5, aspect=5)\n",
    "    if title:\n",
    "        plt.title(title)\n",
    "    plt.show()   \n",
    "        \n",
    "  "
   ]
  },
  {
   "cell_type": "markdown",
   "metadata": {},
   "source": [
    "## 1. Plot the Multivariate Gaussian Distribution"
   ]
  },
  {
   "cell_type": "markdown",
   "metadata": {},
   "source": [
    "$P_b(x) = \\frac{1}{(2 \\pi)^\\frac{n}{2} \\sqrt{\\det(B)}} \\exp \\left( - \\frac{1}{2} (x_b - x)^T B^{-1} (x_b - x) \\right)$"
   ]
  },
  {
   "cell_type": "markdown",
   "metadata": {},
   "source": [
    "A 2-dimensional example with the background \n",
    "$x_b = (0.2,0.5)$; and the B- Matrix given through $\\sigma_b = (0.3,0.2)$; $\\rho=-0.5$"
   ]
  },
  {
   "cell_type": "code",
   "execution_count": null,
   "metadata": {},
   "outputs": [],
   "source": [
    "xb = [0.2,0.5]\n",
    "sb = [0.3,0.2]\n",
    "rho = -0.5\n",
    "plotGauss3D(xb[0],xb[1],sb[0],sb[1],rho)"
   ]
  },
  {
   "cell_type": "markdown",
   "metadata": {},
   "source": [
    "## 2. A 2-dimensional data assimilation problem:"
   ]
  },
  {
   "cell_type": "code",
   "execution_count": null,
   "metadata": {},
   "outputs": [],
   "source": [
    "import numpy as np\n",
    "import scipy.optimize"
   ]
  },
  {
   "cell_type": "markdown",
   "metadata": {},
   "source": [
    "### (a)  Prior estimate (Model Background) $x_b$ and the B-Matrix which is defined by the standard deviation $sd$ and the Pearson correlation coefficient $pcorr$"
   ]
  },
  {
   "cell_type": "code",
   "execution_count": null,
   "metadata": {},
   "outputs": [],
   "source": [
    "xb = np.array([0.1,0.5]) # Model Background\n",
    "sd_0 = 0.3   # Standard deviation of value 1\n",
    "sd_1 = 0.2   # Standard deviation of value 2\n",
    "pcorr = 0.29  # Pearson correlation coefficient\n",
    "# The resulting B-Matrix\n",
    "B  = np.matrix([[sd_0**2,pcorr*sd_0*sd_1],[pcorr*sd_0*sd_1,sd_1**2]])"
   ]
  },
  {
   "cell_type": "markdown",
   "metadata": {},
   "source": [
    "### (b) Two observation and their uncertainties $x_r$ and their respective standard deviation sd are defined"
   ]
  },
  {
   "cell_type": "code",
   "execution_count": null,
   "metadata": {},
   "outputs": [],
   "source": [
    "xr = np.array([0.4,0.1]) # Observation\n",
    "sd = 0.3 # Standard deviation of the observation\n",
    "# The resulting R-Matrix\n",
    "R  = np.matrix([[sd**2,0.0],[0.0,sd**2]])"
   ]
  },
  {
   "cell_type": "markdown",
   "metadata": {},
   "source": [
    "### (c) Define the functions\n",
    "#### Cost ()  -> returns the cost function J and the Jacobian J' \n",
    "#### Uncertaintity()-> returns the Hessian J''"
   ]
  },
  {
   "cell_type": "code",
   "execution_count": null,
   "metadata": {},
   "outputs": [],
   "source": [
    "def cost(x,xb,B,xr,R):\n",
    "    Jb = np.dot(np.array(0.5*(xb-x) * B.I),(xb-x))[0]\n",
    "    Jr = np.dot(np.array(0.5*(xr-x) * R.I),(xr-x))[0]\n",
    "    JbPrime = -(xb-x)*B.I\n",
    "    JrPrime = -(xr-x)*R.I\n",
    "    return Jr+Jb,np.array(JrPrime+JbPrime)[0]\n",
    "\n",
    "def uncertainty(x,xb,B,xr,R):\n",
    "    return (B.I + R.I).I"
   ]
  },
  {
   "cell_type": "markdown",
   "metadata": {},
   "source": [
    "### (d) Algorithm to find the optimal solution $x$\n",
    "#### The cost function needs to be minimized and reveals the optimal solution $x$(or analysis).\n",
    "#### The function also computes the  standard deviation and the Person coefficient of the optimal solution "
   ]
  },
  {
   "cell_type": "code",
   "execution_count": null,
   "metadata": {},
   "outputs": [],
   "source": [
    "# starting guess\n",
    "x = np.array([0.,0.])\n",
    "retval = scipy.optimize.fmin_l_bfgs_b(cost,x,args=(xb,B,xr,R))\n",
    "# x new\n",
    "x = retval[0]\n",
    "# uncertainty\n",
    "Cpost = uncertainty(x,xb,B,xr,R)\n",
    "\n",
    "print ('Results:')\n",
    "# print prior\n",
    "psigma0 = np.sqrt(B[0,0]); psigma1 = np.sqrt(B[1,1])\n",
    "prho12  = B[0,1]/(psigma0*psigma1)\n",
    "print ('Model background:     xb      =',xb[0],xb[1])\n",
    "print ('                      sigma   =',psigma0,psigma1)\n",
    "print ('                      rho     =',prho12)\n",
    "\n",
    "# print observation\n",
    "rsigma0 = np.sqrt(R[0,0]); rsigma1 = np.sqrt(R[1,1])\n",
    "rrho12  = R[0,1]/(rsigma0*rsigma1)\n",
    "print ('Observation:          xo      =',xr[0],xr[1])\n",
    "print ('                      sigma   =',rsigma0,rsigma1) \n",
    "print ('                      rho     =',rrho12)\n",
    "\n",
    "sigma0 = np.sqrt(Cpost[0,0]); sigma1 = np.sqrt(Cpost[1,1])\n",
    "rho12  = Cpost[0,1]/(sigma0*sigma1)\n",
    "print ('Solution:             x       =',x[0],x[1])\n",
    "print ('                      sigma   =',sigma0,sigma1)\n",
    "print ('                      rho     =',rho12)"
   ]
  },
  {
   "cell_type": "markdown",
   "metadata": {},
   "source": [
    "### (e) Plot the Gaussian distriubtions before and after data assimilation \n",
    "#### The Gaussian distributions of the model background (prior), the observations, and the optimal solution (posterior) is visualized below"
   ]
  },
  {
   "cell_type": "code",
   "execution_count": null,
   "metadata": {},
   "outputs": [],
   "source": [
    "plotGauss3D(xb[0],xb[1],psigma0,psigma1,prho12,vminmax=[0,5],title='prior')"
   ]
  },
  {
   "cell_type": "code",
   "execution_count": null,
   "metadata": {},
   "outputs": [],
   "source": [
    "plotGauss3D(xr[0],xr[1],rsigma0,rsigma1,rrho12,vminmax=[0,3],title='observation')"
   ]
  },
  {
   "cell_type": "code",
   "execution_count": null,
   "metadata": {},
   "outputs": [],
   "source": [
    "plotGauss3D(x[0],x[1],sigma0,sigma1,rho12,vminmax=[0,5],title='posterior')"
   ]
  }
 ],
 "metadata": {
  "kernelspec": {
   "display_name": "Python 3",
   "language": "python",
   "name": "python3"
  },
  "language_info": {
   "codemirror_mode": {
    "name": "ipython",
    "version": 3
   },
   "file_extension": ".py",
   "mimetype": "text/x-python",
   "name": "python",
   "nbconvert_exporter": "python",
   "pygments_lexer": "ipython3",
   "version": "3.6.9"
  },
  "vscode": {
   "interpreter": {
    "hash": "074c9da13dadf3787816defdb6724be09c58d82ad2f90fe93195adeb8b140736"
   }
  }
 },
 "nbformat": 4,
 "nbformat_minor": 2
}
