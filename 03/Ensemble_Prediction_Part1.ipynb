{
 "cells": [
  {
   "cell_type": "markdown",
   "metadata": {},
   "source": [
    "# Exercises - GEO4902-03 - Ensemble Prediction\n",
    "\n",
    "[Save as jupyter notebook, with your name in the filename, and upload on canvas]\n",
    "\n",
    "# Exercise 03-01 - Ensemble prediction of a precipitation extreme event"
   ]
  },
  {
   "cell_type": "code",
   "execution_count": 1,
   "metadata": {},
   "outputs": [
    {
     "name": "stderr",
     "output_type": "stream",
     "text": [
      "/home/maltem/.local/lib/python3.10/site-packages/pandas/core/arrays/masked.py:62: UserWarning: Pandas requires version '1.3.4' or newer of 'bottleneck' (version '1.3.2' currently installed).\n",
      "  from pandas.core import (\n"
     ]
    }
   ],
   "source": [
    "# import packages\n",
    "import xarray as xr\n",
    "import numpy as np\n",
    "import cartopy as cy\n",
    "from matplotlib import pyplot as plt\n",
    "from cmcrameri import cm"
   ]
  },
  {
   "cell_type": "markdown",
   "metadata": {},
   "source": [
    "#### Load ensemble forecast"
   ]
  },
  {
   "cell_type": "code",
   "execution_count": 8,
   "metadata": {},
   "outputs": [],
   "source": [
    "year =  '2019'\n",
    "day  =  '01'\n",
    "month = '07'\n",
    "hour_1  =''\n",
    "\n",
    "url = 'https://thredds.met.no/thredds/dodsC/mepsoldarchive/'+year+'/'+month+'/'+day+'/meps_subset_2_5km_'+year+month+day+'T'+hour_1+'Z.nc'\n",
    "forecast_1 = xr.open_dataset(url)\n"
   ]
  },
  {
   "cell_type": "markdown",
   "metadata": {},
   "source": [
    "### Plot forecast on a map\n",
    "(Example plots the precipitation at timestep 36, i.e. accumulated over 36 hours.)"
   ]
  },
  {
   "cell_type": "code",
   "execution_count": null,
   "metadata": {},
   "outputs": [],
   "source": [
    "timestep = 36\n",
    "mlevel = 0\n",
    "member = 0\n",
    "\n",
    "projection = cy.crs.Stereographic(central_latitude=75, central_longitude=15.0, )\n",
    "f, axsm = plt.subplots(1,1, subplot_kw={'projection':projection}, figsize=[7.2, 7.2])\n",
    "\n",
    "# plot cosmetics\n",
    "axsm.set_extent([0, 35, 52, 74], cy.crs.PlateCarree())\n",
    "axsm.add_feature(cy.feature.COASTLINE, alpha=0.5)\n",
    "axsm.add_feature(cy.feature.BORDERS, alpha=0.5)\n",
    "gl = axsm.gridlines(draw_labels=True)\n",
    "gl.top_labels=False\n",
    "gl.right_labels=True\n",
    "\n",
    "forecast_1['precipitation_amount_acc'].isel(time=timestep, height0=mlevel, ensemble_member=member).plot.pcolormesh(ax=axsm, \n",
    "                                                                                                                   x='longitude', \n",
    "                                                                                                                   y='latitude',\n",
    "                                                                                                                   cmap=cm.batlowW_r,\n",
    "                                                                                                                   extend='max',\n",
    "                                                                                                                   levels=np.arange(0,20,2),\n",
    "                                                                                                                   transform=cy.crs.PlateCarree(),\n",
    "                                                                                                                   cbar_kwargs={'orientation':'horizontal','label':'Accumulated precipitation in mm', 'shrink':0.7, 'pad':0.1})\n",
    "\n",
    "\n",
    "plt.title (np.datetime_as_string(forecast_1.time[timestep],unit='h'));\n"
   ]
  },
  {
   "cell_type": "code",
   "execution_count": null,
   "metadata": {},
   "outputs": [],
   "source": []
  }
 ],
 "metadata": {
  "kernelspec": {
   "display_name": "Python 3 (ipykernel)",
   "language": "python",
   "name": "python3"
  },
  "language_info": {
   "codemirror_mode": {
    "name": "ipython",
    "version": 3
   },
   "file_extension": ".py",
   "mimetype": "text/x-python",
   "name": "python",
   "nbconvert_exporter": "python",
   "pygments_lexer": "ipython3",
   "version": "3.10.12"
  },
  "vscode": {
   "interpreter": {
    "hash": "074c9da13dadf3787816defdb6724be09c58d82ad2f90fe93195adeb8b140736"
   }
  }
 },
 "nbformat": 4,
 "nbformat_minor": 2
}
