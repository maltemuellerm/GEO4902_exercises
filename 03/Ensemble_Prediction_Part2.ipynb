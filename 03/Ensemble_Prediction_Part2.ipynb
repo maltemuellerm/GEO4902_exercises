{
 "cells": [
  {
   "cell_type": "markdown",
   "metadata": {},
   "source": [
    "# Ensemble prediction of a precipitation extreme event"
   ]
  },
  {
   "cell_type": "code",
   "execution_count": null,
   "metadata": {},
   "outputs": [],
   "source": [
    "# import packages\n",
    "import xarray as xr\n",
    "import math\n",
    "import numpy as np\n",
    "import cartopy as cy\n",
    "from matplotlib import pyplot as plt\n",
    "from cmcrameri import cm"
   ]
  },
  {
   "cell_type": "code",
   "execution_count": null,
   "metadata": {},
   "outputs": [],
   "source": [
    "year =  '2020'\n",
    "day  =  '03'\n",
    "month = '02'\n",
    "\n",
    "hour_1  ='18'\n",
    "\n",
    "url='https://thredds.met.no/thredds/dodsC/meps25epsarchive/' +year+'/'+month+'/'+day+'/meps_extracted_2_5km_'+year+month+day+'T'+hour_1+'Z.nc'\n",
    "forecast_1 = xr.open_dataset(url)\n"
   ]
  },
  {
   "cell_type": "markdown",
   "metadata": {},
   "source": [
    "### Find a specific point and plot the forecast. \n"
   ]
  },
  {
   "cell_type": "code",
   "execution_count": null,
   "metadata": {},
   "outputs": [],
   "source": [
    "def findindex(alat,alon,plat,plon):\n",
    "    #finding identical location of pos plat, plon in array alat[],alon[]\n",
    "    abslat = np.abs(alat-plat)\n",
    "    abslon = np.abs(alon-plon)\n",
    "    c = np.maximum(abslon,abslat)\n",
    "    y, x = np.where(c == np.min(c))\n",
    "    x=int(x)\n",
    "    y=int(y)\n",
    "   \n",
    "    return (x,y)\n",
    "\n"
   ]
  },
  {
   "cell_type": "code",
   "execution_count": null,
   "metadata": {},
   "outputs": [],
   "source": [
    "[ix,jy] = findindex(forecast_1.latitude,forecast_1.longitude,69.649,18.956) # Tromsø\n",
    "\n",
    "# print(\"Tromsø_forecast 1: latitude: {}; longitude: {}\".format(forecast_1.latitude.isel(x=ix,y=jy).round(2), forecast_1.longitude.isel(x=ix,y=jy).round(2)))"
   ]
  },
  {
   "cell_type": "markdown",
   "metadata": {},
   "source": [
    "#### For example wind speed forecasts"
   ]
  },
  {
   "cell_type": "code",
   "execution_count": null,
   "metadata": {},
   "outputs": [],
   "source": [
    "member=1\n",
    "accpp_point_forecast_1 = forecast_1['wind_speed'].isel(height3=0, ensemble_member=0, y=jy, x=ix)\n",
    "accpp_point_forecast_1 = accpp_point_forecast_1.assign_attrs({'long_name': 'Wind speed'}) #rename attribute of long name as it should be wind speed and not direction\n"
   ]
  },
  {
   "cell_type": "code",
   "execution_count": null,
   "metadata": {},
   "outputs": [],
   "source": [
    "f, ax = plt.subplots()                              # define figure\n",
    "\n",
    "accpp_point_forecast_1.plot.line(ax = ax, x='time', add_legend=True)                             # plot with xarray.plot function\n",
    "plt.title(\"Tromsø Wind Speed Forecast\");\n"
   ]
  },
  {
   "cell_type": "markdown",
   "metadata": {},
   "source": [
    "### Plot forecast on a map\n",
    "Mean sea level pressure"
   ]
  },
  {
   "cell_type": "code",
   "execution_count": null,
   "metadata": {},
   "outputs": [],
   "source": [
    "timestep = 20\n",
    "mlevel = 0\n",
    "member = 7\n",
    "\n",
    "projection = cy.crs.Stereographic(central_latitude=75, central_longitude=15.0, )\n",
    "f, axsm = plt.subplots(1,1, subplot_kw={'projection':projection}, figsize=[7.2, 7.2])\n",
    "\n",
    "# plot cosmetics\n",
    "axsm.set_extent([1, 32, 52, 72], cy.crs.PlateCarree())\n",
    "axsm.add_feature(cy.feature.COASTLINE, alpha=0.5)\n",
    "axsm.add_feature(cy.feature.BORDERS, alpha=0.5)\n",
    "gl = axsm.gridlines(draw_labels=True)\n",
    "gl.top_labels=False\n",
    "gl.right_labels=True\n",
    "\n",
    "(forecast_1['air_pressure_at_sea_level'].isel(time=timestep, height_above_msl=mlevel, ensemble_member=member)/100).plot.pcolormesh(ax=axsm, \n",
    "                                                                                                                   x='longitude', \n",
    "                                                                                                                   y='latitude',\n",
    "                                                                                                                   cmap=cm.roma,\n",
    "                                                                                                                   extend='both',\n",
    "                                                                                                                   levels=np.arange(970,1030, 2),\n",
    "                                                                                                                   transform=cy.crs.PlateCarree(),\n",
    "                                                                                                                   cbar_kwargs={'orientation':'horizontal','label':'{} in hPa'.format(forecast_1['air_pressure_at_sea_level'].attrs['long_name'],), 'shrink':0.7, 'pad':0.1})\n",
    "\n",
    "\n",
    "plt.title (np.datetime_as_string(forecast_1.time[timestep],unit='h'));\n"
   ]
  },
  {
   "cell_type": "code",
   "execution_count": null,
   "metadata": {},
   "outputs": [],
   "source": []
  }
 ],
 "metadata": {
  "kernelspec": {
   "display_name": "Python 3.10.6 ('geo4902_2')",
   "language": "python",
   "name": "python3"
  },
  "language_info": {
   "codemirror_mode": {
    "name": "ipython",
    "version": 3
   },
   "file_extension": ".py",
   "mimetype": "text/x-python",
   "name": "python",
   "nbconvert_exporter": "python",
   "pygments_lexer": "ipython3",
   "version": "3.10.6"
  },
  "vscode": {
   "interpreter": {
    "hash": "074c9da13dadf3787816defdb6724be09c58d82ad2f90fe93195adeb8b140736"
   }
  }
 },
 "nbformat": 4,
 "nbformat_minor": 2
}
