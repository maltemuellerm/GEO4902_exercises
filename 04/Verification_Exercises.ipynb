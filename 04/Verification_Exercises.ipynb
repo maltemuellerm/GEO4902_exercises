{
 "cells": [
  {
   "cell_type": "markdown",
   "metadata": {},
   "source": [
    "You have to add the python package scikit-learn to your environment.\n",
    "\n",
    "Activate your environment from the terminal and install the package via anaconda\n",
    "```\n",
    "$ conda activate geo4902\n",
    "$ conda install -c anaconda scikit-learn\n",
    "```\n",
    "\n",
    "Alternatively do it through the Anaconda Navigator."
   ]
  },
  {
   "cell_type": "code",
   "execution_count": 5,
   "metadata": {},
   "outputs": [],
   "source": [
    "# import packages\n",
    "import pandas as pd \n",
    "import numpy as np\n",
    "from matplotlib import pyplot as plt\n",
    "from sklearn.metrics import mean_squared_error # used to calculate RMSE\n",
    "from scipy.signal import savgol_filter\n"
   ]
  },
  {
   "cell_type": "code",
   "execution_count": 6,
   "metadata": {},
   "outputs": [],
   "source": [
    "# import temperature and wind data\n",
    "st1_temp = pd.read_csv(\"https://raw.githubusercontent.com/maltemuellerm/GEO4902_2021/master/04/data/99735temp.csv\") #Edgeøya - Kapp Heuglin, Svalbard                \n",
    "st2_temp = pd.read_csv(\"https://raw.githubusercontent.com/maltemuellerm/GEO4902_2021/master/04/data/99754temp.csv\") #Hornsund, Svalbard\n",
    "st1_wind = pd.read_csv(\"https://raw.githubusercontent.com/maltemuellerm/GEO4902_2021/master/04/data/99735wind.csv\")                 \n",
    "st2_wind = pd.read_csv(\"https://raw.githubusercontent.com/maltemuellerm/GEO4902_2021/master/04/data/99754wind.csv\") "
   ]
  },
  {
   "cell_type": "code",
   "execution_count": 7,
   "metadata": {},
   "outputs": [],
   "source": [
    "# set time as index \n",
    "# drop=True: Delete columns to be used as the new index.\n",
    "# inplace=True: If True, modifies the DataFrame in place (do not create a new object).\n",
    "st1_temp.set_index('time', drop=True, inplace=True)"
   ]
  },
  {
   "cell_type": "code",
   "execution_count": null,
   "metadata": {},
   "outputs": [],
   "source": []
  }
 ],
 "metadata": {
  "kernelspec": {
   "display_name": "Python 3.10.6 ('geo4902_2')",
   "language": "python",
   "name": "python3"
  },
  "language_info": {
   "codemirror_mode": {
    "name": "ipython",
    "version": 3
   },
   "file_extension": ".py",
   "mimetype": "text/x-python",
   "name": "python",
   "nbconvert_exporter": "python",
   "pygments_lexer": "ipython3",
   "version": "3.10.6"
  },
  "vscode": {
   "interpreter": {
    "hash": "074c9da13dadf3787816defdb6724be09c58d82ad2f90fe93195adeb8b140736"
   }
  }
 },
 "nbformat": 4,
 "nbformat_minor": 2
}
